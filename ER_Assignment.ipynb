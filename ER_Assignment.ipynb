{
  "nbformat": 4,
  "nbformat_minor": 0,
  "metadata": {
    "colab": {
      "name": "ER_Assignment.ipynb",
      "provenance": [],
      "collapsed_sections": [],
      "authorship_tag": "ABX9TyOFVdnz+XTa2BerAgU19dCc"
    },
    "kernelspec": {
      "display_name": "Python 3",
      "name": "python3"
    },
    "language_info": {
      "name": "python"
    }
  },
  "cells": [
    {
      "cell_type": "markdown",
      "metadata": {
        "id": "0BWQ6af6HH4l"
      },
      "source": [
        "# Entity Resolution \n",
        "\n",
        "Entity Resolution refers to the task of finding records in a dataset that refer to the same entity across different data sources. It is referred in different names such as \"Record linkage\" or \"DeDuplication\", a process of joining records from one data source with another that describe the same entity. \n",
        "\n",
        "ER is necessary when joining datasets based on entities that may or may not share a common identifier (e.g., database key, URI, National identification number), as may be the case due to differences in record shape, storage location, and/or curator style or preference. "
      ]
    },
    {
      "cell_type": "code",
      "metadata": {
        "id": "DWBeYibZFC8x"
      },
      "source": [
        "# Importing relevant libraries\n",
        "\n",
        "import numpy as np\n",
        "import pandas as pd\n",
        "import recordlinkage\n",
        "from recordlinkage.preprocessing import clean"
      ],
      "execution_count": 177,
      "outputs": []
    },
    {
      "cell_type": "code",
      "metadata": {
        "id": "eGyQqYaQMU0C"
      },
      "source": [
        "### Uploading the csv file as a dataframe\n",
        "\n",
        "df1=pd.read_csv('Scholar.csv', index_col='row_id', engine ='python')\n",
        "\n",
        "df2=pd.read_csv('DBLP.csv', index_col='row_id', engine ='python')\n"
      ],
      "execution_count": null,
      "outputs": []
    },
    {
      "cell_type": "markdown",
      "metadata": {
        "id": "LV8PhhSijxYJ"
      },
      "source": [
        "### Understanding the dataset"
      ]
    },
    {
      "cell_type": "code",
      "metadata": {
        "colab": {
          "base_uri": "https://localhost:8080/"
        },
        "id": "QVcFnJdEMmp3",
        "outputId": "3a9bad9a-43da-4844-b7ca-18714cd2ef27"
      },
      "source": [
        "# Checking the shape of the dataset\n",
        "\n",
        "print(df1.shape)\n",
        "print(df2.shape)"
      ],
      "execution_count": 179,
      "outputs": [
        {
          "output_type": "stream",
          "text": [
            "(64260, 5)\n",
            "(2616, 5)\n"
          ],
          "name": "stdout"
        }
      ]
    },
    {
      "cell_type": "code",
      "metadata": {
        "colab": {
          "base_uri": "https://localhost:8080/"
        },
        "id": "MIEZb0QNysXQ",
        "outputId": "9251702d-2199-4619-a229-00e2ebf4d4fb"
      },
      "source": [
        "# Checking for null values across all the columns in the two datasets\n",
        "\n",
        "print(df1.isnull().sum())\n",
        "\n",
        "print('\\n**********************\\n')\n",
        "\n",
        "print(df2.isnull().sum())"
      ],
      "execution_count": null,
      "outputs": [
        {
          "output_type": "stream",
          "text": [
            "idScholar        0\n",
            "title            0\n",
            "authors          1\n",
            "venue        14997\n",
            "year         34789\n",
            "dtype: int64\n",
            "\n",
            "**********************\n",
            "\n",
            "idDBLP       0\n",
            "title        0\n",
            "authors    218\n",
            "venue      211\n",
            "year         0\n",
            "dtype: int64\n"
          ],
          "name": "stdout"
        }
      ]
    },
    {
      "cell_type": "markdown",
      "metadata": {
        "id": "M5fP8ahvHrHF"
      },
      "source": [
        "Comment: There are no null values in the title column across both the datasets and I will use 'title' for indexing in the record linkage process. "
      ]
    },
    {
      "cell_type": "code",
      "metadata": {
        "id": "1ughlr05t8KL"
      },
      "source": [
        "# Renaming the index columns to match the output file format. \n",
        "\n",
        "df1.index.names = ['Scholar_Match']\n",
        "\n",
        "df2.index.names = ['DBLP_Match']"
      ],
      "execution_count": null,
      "outputs": []
    },
    {
      "cell_type": "code",
      "metadata": {
        "colab": {
          "base_uri": "https://localhost:8080/",
          "height": 286
        },
        "id": "pPM15dSIOPts",
        "outputId": "2599ca11-8c20-4e73-b0ed-da48e6a46e7e"
      },
      "source": [
        "# Basic structure of the dataset (top 5)\n",
        "\n",
        "df1.head()"
      ],
      "execution_count": null,
      "outputs": [
        {
          "output_type": "execute_result",
          "data": {
            "text/html": [
              "<div>\n",
              "<style scoped>\n",
              "    .dataframe tbody tr th:only-of-type {\n",
              "        vertical-align: middle;\n",
              "    }\n",
              "\n",
              "    .dataframe tbody tr th {\n",
              "        vertical-align: top;\n",
              "    }\n",
              "\n",
              "    .dataframe thead th {\n",
              "        text-align: right;\n",
              "    }\n",
              "</style>\n",
              "<table border=\"1\" class=\"dataframe\">\n",
              "  <thead>\n",
              "    <tr style=\"text-align: right;\">\n",
              "      <th></th>\n",
              "      <th>idScholar</th>\n",
              "      <th>title</th>\n",
              "      <th>authors</th>\n",
              "      <th>venue</th>\n",
              "      <th>year</th>\n",
              "    </tr>\n",
              "    <tr>\n",
              "      <th>Scholar_Match</th>\n",
              "      <th></th>\n",
              "      <th></th>\n",
              "      <th></th>\n",
              "      <th></th>\n",
              "      <th></th>\n",
              "    </tr>\n",
              "  </thead>\n",
              "  <tbody>\n",
              "    <tr>\n",
              "      <th>1</th>\n",
              "      <td>aKcZKwvwbQwJ</td>\n",
              "      <td>11578 Sorrento Valley Road</td>\n",
              "      <td>QD Inc</td>\n",
              "      <td>San Diego,</td>\n",
              "      <td>NaN</td>\n",
              "    </tr>\n",
              "    <tr>\n",
              "      <th>2</th>\n",
              "      <td>ixKfiTHoaDoJ</td>\n",
              "      <td>Initiation of crazes in polystyrene</td>\n",
              "      <td>AS Argon, JG Hannoosh</td>\n",
              "      <td>Phil. Mag,</td>\n",
              "      <td>NaN</td>\n",
              "    </tr>\n",
              "    <tr>\n",
              "      <th>3</th>\n",
              "      <td>3BxllB4wwcIJ</td>\n",
              "      <td>Immunogold labelling is a quantitative method ...</td>\n",
              "      <td>GH Hansen, LL Wetterberg, H Sj͗�_str͗�_m, O No...</td>\n",
              "      <td>The Histochemical Journal,</td>\n",
              "      <td>1992.0</td>\n",
              "    </tr>\n",
              "    <tr>\n",
              "      <th>4</th>\n",
              "      <td>d2WWxwKMex4J</td>\n",
              "      <td>The Burden of Infectious Disease Among Inmates...</td>\n",
              "      <td>TM Hammett, P Harmon, W Rhodes</td>\n",
              "      <td>see</td>\n",
              "      <td>NaN</td>\n",
              "    </tr>\n",
              "    <tr>\n",
              "      <th>5</th>\n",
              "      <td>cZCX-AQpjccJ</td>\n",
              "      <td>The Role of Faculty Advising in Science and En...</td>\n",
              "      <td>JR Cogdell</td>\n",
              "      <td>NEW DIRECTIONS FOR TEACHING AND LEARNING,</td>\n",
              "      <td>1995.0</td>\n",
              "    </tr>\n",
              "  </tbody>\n",
              "</table>\n",
              "</div>"
            ],
            "text/plain": [
              "                  idScholar  ...    year\n",
              "Scholar_Match                ...        \n",
              "1              aKcZKwvwbQwJ  ...     NaN\n",
              "2              ixKfiTHoaDoJ  ...     NaN\n",
              "3              3BxllB4wwcIJ  ...  1992.0\n",
              "4              d2WWxwKMex4J  ...     NaN\n",
              "5              cZCX-AQpjccJ  ...  1995.0\n",
              "\n",
              "[5 rows x 5 columns]"
            ]
          },
          "metadata": {
            "tags": []
          },
          "execution_count": 146
        }
      ]
    },
    {
      "cell_type": "code",
      "metadata": {
        "colab": {
          "base_uri": "https://localhost:8080/",
          "height": 235
        },
        "id": "hCQK95R3Oa9B",
        "outputId": "0f80dc3c-c5aa-4351-aee3-01b142be04b8"
      },
      "source": [
        "df2.head()"
      ],
      "execution_count": null,
      "outputs": [
        {
          "output_type": "execute_result",
          "data": {
            "text/html": [
              "<div>\n",
              "<style scoped>\n",
              "    .dataframe tbody tr th:only-of-type {\n",
              "        vertical-align: middle;\n",
              "    }\n",
              "\n",
              "    .dataframe tbody tr th {\n",
              "        vertical-align: top;\n",
              "    }\n",
              "\n",
              "    .dataframe thead th {\n",
              "        text-align: right;\n",
              "    }\n",
              "</style>\n",
              "<table border=\"1\" class=\"dataframe\">\n",
              "  <thead>\n",
              "    <tr style=\"text-align: right;\">\n",
              "      <th></th>\n",
              "      <th>idDBLP</th>\n",
              "      <th>title</th>\n",
              "      <th>authors</th>\n",
              "      <th>venue</th>\n",
              "      <th>year</th>\n",
              "    </tr>\n",
              "    <tr>\n",
              "      <th>DBLP_Match</th>\n",
              "      <th></th>\n",
              "      <th></th>\n",
              "      <th></th>\n",
              "      <th></th>\n",
              "      <th></th>\n",
              "    </tr>\n",
              "  </thead>\n",
              "  <tbody>\n",
              "    <tr>\n",
              "      <th>1</th>\n",
              "      <td>conf/vldb/RusinkiewiczKTWM95</td>\n",
              "      <td>Towards a Cooperative Transaction Model - The ...</td>\n",
              "      <td>M Rusinkiewicz, W Klas, T Tesch, J W_sch, P Muth</td>\n",
              "      <td>VLDB</td>\n",
              "      <td>1995</td>\n",
              "    </tr>\n",
              "    <tr>\n",
              "      <th>2</th>\n",
              "      <td>journals/sigmod/EisenbergM02</td>\n",
              "      <td>SQL/XML is Making Good Progress</td>\n",
              "      <td>A Eisenberg, J Melton</td>\n",
              "      <td>SIGMOD Record</td>\n",
              "      <td>2002</td>\n",
              "    </tr>\n",
              "    <tr>\n",
              "      <th>3</th>\n",
              "      <td>conf/vldb/AmmannJR95</td>\n",
              "      <td>Using Formal Methods to Reason about Semantics...</td>\n",
              "      <td>P Ammann, S Jajodia, I Ray</td>\n",
              "      <td>VLDB</td>\n",
              "      <td>1995</td>\n",
              "    </tr>\n",
              "    <tr>\n",
              "      <th>4</th>\n",
              "      <td>journals/sigmod/Liu02</td>\n",
              "      <td>Editor's Notes</td>\n",
              "      <td>L Liu</td>\n",
              "      <td>SIGMOD Record</td>\n",
              "      <td>2002</td>\n",
              "    </tr>\n",
              "    <tr>\n",
              "      <th>5</th>\n",
              "      <td>journals/sigmod/Hammer02</td>\n",
              "      <td>Report on the ACM Fourth International Worksho...</td>\n",
              "      <td>NaN</td>\n",
              "      <td>NaN</td>\n",
              "      <td>2002</td>\n",
              "    </tr>\n",
              "  </tbody>\n",
              "</table>\n",
              "</div>"
            ],
            "text/plain": [
              "                                  idDBLP  ...  year\n",
              "DBLP_Match                                ...      \n",
              "1           conf/vldb/RusinkiewiczKTWM95  ...  1995\n",
              "2           journals/sigmod/EisenbergM02  ...  2002\n",
              "3                   conf/vldb/AmmannJR95  ...  1995\n",
              "4                  journals/sigmod/Liu02  ...  2002\n",
              "5               journals/sigmod/Hammer02  ...  2002\n",
              "\n",
              "[5 rows x 5 columns]"
            ]
          },
          "metadata": {
            "tags": []
          },
          "execution_count": 147
        }
      ]
    },
    {
      "cell_type": "markdown",
      "metadata": {
        "id": "ERn917OIjrvF"
      },
      "source": [
        "### Data Preprocessing \n",
        "\n",
        "1. Pre-processing of data (cleaning and standardising) increases accuracy of entity resolution (or record linkage) process. \n",
        "\n",
        "2. In this section, clean () function from Python Record Linkage library is used for data cleaning. \n"
      ]
    },
    {
      "cell_type": "code",
      "metadata": {
        "id": "7jAnWZmsjq4G"
      },
      "source": [
        "# Cleaning the title, authors and venue columns in df1 (Scholar dataset)\n",
        "\n",
        "df1['title']= clean(df1['title'])\n",
        "\n",
        "df1['authors']= clean(df1['authors'])\n",
        "\n",
        "df1['venue']= clean(df1['venue'])"
      ],
      "execution_count": null,
      "outputs": []
    },
    {
      "cell_type": "markdown",
      "metadata": {
        "id": "_aXATGqiKNBD"
      },
      "source": [
        "Comment: The clean function from Python Record Linkage toolkit converts the text into lower case, replaces special characters and removes brackets"
      ]
    },
    {
      "cell_type": "code",
      "metadata": {
        "colab": {
          "base_uri": "https://localhost:8080/",
          "height": 235
        },
        "id": "JA8FEF4IUWwy",
        "outputId": "b90b060b-26b3-4585-aaa7-d0ac47b6bee1"
      },
      "source": [
        "# The dataset 1 (scholar.csv) after data cleaning\n",
        "\n",
        "df1.head()"
      ],
      "execution_count": null,
      "outputs": [
        {
          "output_type": "execute_result",
          "data": {
            "text/html": [
              "<div>\n",
              "<style scoped>\n",
              "    .dataframe tbody tr th:only-of-type {\n",
              "        vertical-align: middle;\n",
              "    }\n",
              "\n",
              "    .dataframe tbody tr th {\n",
              "        vertical-align: top;\n",
              "    }\n",
              "\n",
              "    .dataframe thead th {\n",
              "        text-align: right;\n",
              "    }\n",
              "</style>\n",
              "<table border=\"1\" class=\"dataframe\">\n",
              "  <thead>\n",
              "    <tr style=\"text-align: right;\">\n",
              "      <th></th>\n",
              "      <th>idScholar</th>\n",
              "      <th>title</th>\n",
              "      <th>authors</th>\n",
              "      <th>venue</th>\n",
              "      <th>year</th>\n",
              "    </tr>\n",
              "    <tr>\n",
              "      <th>Scholar_Match</th>\n",
              "      <th></th>\n",
              "      <th></th>\n",
              "      <th></th>\n",
              "      <th></th>\n",
              "      <th></th>\n",
              "    </tr>\n",
              "  </thead>\n",
              "  <tbody>\n",
              "    <tr>\n",
              "      <th>1</th>\n",
              "      <td>aKcZKwvwbQwJ</td>\n",
              "      <td>11578 sorrento valley road</td>\n",
              "      <td>qd inc</td>\n",
              "      <td>san diego</td>\n",
              "      <td>NaN</td>\n",
              "    </tr>\n",
              "    <tr>\n",
              "      <th>2</th>\n",
              "      <td>ixKfiTHoaDoJ</td>\n",
              "      <td>initiation of crazes in polystyrene</td>\n",
              "      <td>as argon jg hannoosh</td>\n",
              "      <td>phil mag</td>\n",
              "      <td>NaN</td>\n",
              "    </tr>\n",
              "    <tr>\n",
              "      <th>3</th>\n",
              "      <td>3BxllB4wwcIJ</td>\n",
              "      <td>immunogold labelling is a quantitative method ...</td>\n",
              "      <td>gh hansen ll wetterberg h sj str m o norn</td>\n",
              "      <td>the histochemical journal</td>\n",
              "      <td>1992.0</td>\n",
              "    </tr>\n",
              "    <tr>\n",
              "      <th>4</th>\n",
              "      <td>d2WWxwKMex4J</td>\n",
              "      <td>the burden of infectious disease among inmates...</td>\n",
              "      <td>tm hammett p harmon w rhodes</td>\n",
              "      <td>see</td>\n",
              "      <td>NaN</td>\n",
              "    </tr>\n",
              "    <tr>\n",
              "      <th>5</th>\n",
              "      <td>cZCX-AQpjccJ</td>\n",
              "      <td>the role of faculty advising in science and en...</td>\n",
              "      <td>jr cogdell</td>\n",
              "      <td>new directions for teaching and learning</td>\n",
              "      <td>1995.0</td>\n",
              "    </tr>\n",
              "  </tbody>\n",
              "</table>\n",
              "</div>"
            ],
            "text/plain": [
              "                  idScholar  ...    year\n",
              "Scholar_Match                ...        \n",
              "1              aKcZKwvwbQwJ  ...     NaN\n",
              "2              ixKfiTHoaDoJ  ...     NaN\n",
              "3              3BxllB4wwcIJ  ...  1992.0\n",
              "4              d2WWxwKMex4J  ...     NaN\n",
              "5              cZCX-AQpjccJ  ...  1995.0\n",
              "\n",
              "[5 rows x 5 columns]"
            ]
          },
          "metadata": {
            "tags": []
          },
          "execution_count": 150
        }
      ]
    },
    {
      "cell_type": "code",
      "metadata": {
        "id": "fW1nKPn4q_S7"
      },
      "source": [
        "# Cleaning the title, authors and venue columns in df2 (DBLP dataset)\n",
        "\n",
        "df2['title']= clean(df2['title'])\n",
        "\n",
        "df2['authors']= clean(df2['authors'])\n",
        "\n",
        "df2['venue']= clean(df2['venue'])"
      ],
      "execution_count": null,
      "outputs": []
    },
    {
      "cell_type": "code",
      "metadata": {
        "colab": {
          "base_uri": "https://localhost:8080/",
          "height": 235
        },
        "id": "2dbh8vC_rQZk",
        "outputId": "f08fa8b9-4270-4f74-b360-a9c9c279ef48"
      },
      "source": [
        "# The dataset 2 (DBLP.csv) after data cleaning\n",
        "\n",
        "df2.head()"
      ],
      "execution_count": null,
      "outputs": [
        {
          "output_type": "execute_result",
          "data": {
            "text/html": [
              "<div>\n",
              "<style scoped>\n",
              "    .dataframe tbody tr th:only-of-type {\n",
              "        vertical-align: middle;\n",
              "    }\n",
              "\n",
              "    .dataframe tbody tr th {\n",
              "        vertical-align: top;\n",
              "    }\n",
              "\n",
              "    .dataframe thead th {\n",
              "        text-align: right;\n",
              "    }\n",
              "</style>\n",
              "<table border=\"1\" class=\"dataframe\">\n",
              "  <thead>\n",
              "    <tr style=\"text-align: right;\">\n",
              "      <th></th>\n",
              "      <th>idDBLP</th>\n",
              "      <th>title</th>\n",
              "      <th>authors</th>\n",
              "      <th>venue</th>\n",
              "      <th>year</th>\n",
              "    </tr>\n",
              "    <tr>\n",
              "      <th>DBLP_Match</th>\n",
              "      <th></th>\n",
              "      <th></th>\n",
              "      <th></th>\n",
              "      <th></th>\n",
              "      <th></th>\n",
              "    </tr>\n",
              "  </thead>\n",
              "  <tbody>\n",
              "    <tr>\n",
              "      <th>1</th>\n",
              "      <td>conf/vldb/RusinkiewiczKTWM95</td>\n",
              "      <td>towards a cooperative transaction model the co...</td>\n",
              "      <td>m rusinkiewicz w klas t tesch j w sch p muth</td>\n",
              "      <td>vldb</td>\n",
              "      <td>1995</td>\n",
              "    </tr>\n",
              "    <tr>\n",
              "      <th>2</th>\n",
              "      <td>journals/sigmod/EisenbergM02</td>\n",
              "      <td>sqlxml is making good progress</td>\n",
              "      <td>a eisenberg j melton</td>\n",
              "      <td>sigmod record</td>\n",
              "      <td>2002</td>\n",
              "    </tr>\n",
              "    <tr>\n",
              "      <th>3</th>\n",
              "      <td>conf/vldb/AmmannJR95</td>\n",
              "      <td>using formal methods to reason about semantics...</td>\n",
              "      <td>p ammann s jajodia i ray</td>\n",
              "      <td>vldb</td>\n",
              "      <td>1995</td>\n",
              "    </tr>\n",
              "    <tr>\n",
              "      <th>4</th>\n",
              "      <td>journals/sigmod/Liu02</td>\n",
              "      <td>editors notes</td>\n",
              "      <td>l liu</td>\n",
              "      <td>sigmod record</td>\n",
              "      <td>2002</td>\n",
              "    </tr>\n",
              "    <tr>\n",
              "      <th>5</th>\n",
              "      <td>journals/sigmod/Hammer02</td>\n",
              "      <td>report on the acm fourth international worksho...</td>\n",
              "      <td>NaN</td>\n",
              "      <td>NaN</td>\n",
              "      <td>2002</td>\n",
              "    </tr>\n",
              "  </tbody>\n",
              "</table>\n",
              "</div>"
            ],
            "text/plain": [
              "                                  idDBLP  ...  year\n",
              "DBLP_Match                                ...      \n",
              "1           conf/vldb/RusinkiewiczKTWM95  ...  1995\n",
              "2           journals/sigmod/EisenbergM02  ...  2002\n",
              "3                   conf/vldb/AmmannJR95  ...  1995\n",
              "4                  journals/sigmod/Liu02  ...  2002\n",
              "5               journals/sigmod/Hammer02  ...  2002\n",
              "\n",
              "[5 rows x 5 columns]"
            ]
          },
          "metadata": {
            "tags": []
          },
          "execution_count": 152
        }
      ]
    },
    {
      "cell_type": "markdown",
      "metadata": {
        "id": "VAy6qWMQtAmV"
      },
      "source": [
        "### Step 1: Indexing"
      ]
    },
    {
      "cell_type": "code",
      "metadata": {
        "colab": {
          "base_uri": "https://localhost:8080/"
        },
        "id": "voOOPYGizEhm",
        "outputId": "19bd902f-e89a-4577-c768-250b4a95e823"
      },
      "source": [
        "# Indexing the datasets using sorted neighbourhood algorithm\n",
        "\n",
        "indexer = recordlinkage.Index()\n",
        "indexer.sortedneighbourhood(left_on='title', right_on='title')\n",
        "\n",
        "candidates = indexer.index(df1, df2)\n",
        "print(len(candidates))\n"
      ],
      "execution_count": null,
      "outputs": [
        {
          "output_type": "stream",
          "text": [
            "9457\n"
          ],
          "name": "stdout"
        }
      ]
    },
    {
      "cell_type": "markdown",
      "metadata": {
        "id": "Uj8XZ_a4MECm"
      },
      "source": [
        "Comment:\n",
        "\n",
        "1. Indexing creates pair of records called candidate links or candidate matches based on indexing algorithms such as 'full indexing', 'blocking' and 'sorted neighborhood'. \n",
        "\n",
        "2. Indexing links and detects duplicate records across the datasets and returns a complete set of record pairs. \n",
        "\n",
        "3. 'Sorted neighbourhood' indexing is used on 'title' column on both datasets resulting in records pairs of 9457 with default windowsize=3. A large window size results in more record pairs. \n",
        "\n",
        "4. The Sorted Neighbourhood Index method is a great method when there is relatively large amount of spelling mistakes. Blocking index will fail in that situation because it excludes to many records on minor spelling mistakes.\n",
        "\n",
        "5. Full indexing leading to 16.5 million record pairs and it is computationally expensive and time-taking for running full indexing algorithm in the present context. "
      ]
    },
    {
      "cell_type": "markdown",
      "metadata": {
        "id": "mRgBF5a_OKj1"
      },
      "source": [
        "###Step 2: Comparing \n",
        "\n",
        "1. It is used to compare records pairs as set of informative, discriminating and independent features is important for a good classification of record pairs into matching and distinct pairs. "
      ]
    },
    {
      "cell_type": "code",
      "metadata": {
        "id": "xJdbJHs8z4T6"
      },
      "source": [
        "# Comparing the record pairs across the chosen columns 'title', 'authors', 'venue' and 'year'\n",
        "\n",
        "compare = recordlinkage.Compare()\n",
        "\n",
        "compare.string('title', 'title', threshold=0.85, label='title')\n",
        "compare.string('authors',\n",
        "            'authors',\n",
        "            method= 'jarowinkler',\n",
        "            threshold=0.85,\n",
        "            label='authors')\n",
        "compare.string('venue',\n",
        "            'venue',\n",
        "            threshold=0.85,\n",
        "            label='venue')\n",
        "compare.numeric('year',\n",
        "            'year',\n",
        "            label='year')\n",
        "features = compare.compute(candidates, df1, df2)"
      ],
      "execution_count": null,
      "outputs": []
    },
    {
      "cell_type": "code",
      "metadata": {
        "colab": {
          "base_uri": "https://localhost:8080/",
          "height": 450
        },
        "id": "5AKWyBOeuYcf",
        "outputId": "61743933-e1ab-4fd3-ee30-aef373881c3d"
      },
      "source": [
        "features"
      ],
      "execution_count": null,
      "outputs": [
        {
          "output_type": "execute_result",
          "data": {
            "text/html": [
              "<div>\n",
              "<style scoped>\n",
              "    .dataframe tbody tr th:only-of-type {\n",
              "        vertical-align: middle;\n",
              "    }\n",
              "\n",
              "    .dataframe tbody tr th {\n",
              "        vertical-align: top;\n",
              "    }\n",
              "\n",
              "    .dataframe thead th {\n",
              "        text-align: right;\n",
              "    }\n",
              "</style>\n",
              "<table border=\"1\" class=\"dataframe\">\n",
              "  <thead>\n",
              "    <tr style=\"text-align: right;\">\n",
              "      <th></th>\n",
              "      <th></th>\n",
              "      <th>title</th>\n",
              "      <th>authors</th>\n",
              "      <th>venue</th>\n",
              "      <th>year</th>\n",
              "    </tr>\n",
              "    <tr>\n",
              "      <th>Scholar_Match</th>\n",
              "      <th>DBLP_Match</th>\n",
              "      <th></th>\n",
              "      <th></th>\n",
              "      <th></th>\n",
              "      <th></th>\n",
              "    </tr>\n",
              "  </thead>\n",
              "  <tbody>\n",
              "    <tr>\n",
              "      <th>35</th>\n",
              "      <th>2457</th>\n",
              "      <td>0.0</td>\n",
              "      <td>0.0</td>\n",
              "      <td>0.0</td>\n",
              "      <td>0.0</td>\n",
              "    </tr>\n",
              "    <tr>\n",
              "      <th>54</th>\n",
              "      <th>2103</th>\n",
              "      <td>0.0</td>\n",
              "      <td>0.0</td>\n",
              "      <td>0.0</td>\n",
              "      <td>0.0</td>\n",
              "    </tr>\n",
              "    <tr>\n",
              "      <th>89</th>\n",
              "      <th>1811</th>\n",
              "      <td>0.0</td>\n",
              "      <td>0.0</td>\n",
              "      <td>0.0</td>\n",
              "      <td>0.0</td>\n",
              "    </tr>\n",
              "    <tr>\n",
              "      <th>170</th>\n",
              "      <th>1691</th>\n",
              "      <td>0.0</td>\n",
              "      <td>0.0</td>\n",
              "      <td>0.0</td>\n",
              "      <td>0.0</td>\n",
              "    </tr>\n",
              "    <tr>\n",
              "      <th>192</th>\n",
              "      <th>841</th>\n",
              "      <td>0.0</td>\n",
              "      <td>0.0</td>\n",
              "      <td>0.0</td>\n",
              "      <td>0.0</td>\n",
              "    </tr>\n",
              "    <tr>\n",
              "      <th>...</th>\n",
              "      <th>...</th>\n",
              "      <td>...</td>\n",
              "      <td>...</td>\n",
              "      <td>...</td>\n",
              "      <td>...</td>\n",
              "    </tr>\n",
              "    <tr>\n",
              "      <th>64144</th>\n",
              "      <th>1103</th>\n",
              "      <td>0.0</td>\n",
              "      <td>0.0</td>\n",
              "      <td>0.0</td>\n",
              "      <td>0.0</td>\n",
              "    </tr>\n",
              "    <tr>\n",
              "      <th>64172</th>\n",
              "      <th>2275</th>\n",
              "      <td>0.0</td>\n",
              "      <td>0.0</td>\n",
              "      <td>0.0</td>\n",
              "      <td>0.0</td>\n",
              "    </tr>\n",
              "    <tr>\n",
              "      <th>64223</th>\n",
              "      <th>2576</th>\n",
              "      <td>0.0</td>\n",
              "      <td>0.0</td>\n",
              "      <td>0.0</td>\n",
              "      <td>0.0</td>\n",
              "    </tr>\n",
              "    <tr>\n",
              "      <th>64228</th>\n",
              "      <th>907</th>\n",
              "      <td>0.0</td>\n",
              "      <td>1.0</td>\n",
              "      <td>0.0</td>\n",
              "      <td>0.0</td>\n",
              "    </tr>\n",
              "    <tr>\n",
              "      <th>64236</th>\n",
              "      <th>923</th>\n",
              "      <td>0.0</td>\n",
              "      <td>1.0</td>\n",
              "      <td>0.0</td>\n",
              "      <td>0.0</td>\n",
              "    </tr>\n",
              "  </tbody>\n",
              "</table>\n",
              "<p>9457 rows × 4 columns</p>\n",
              "</div>"
            ],
            "text/plain": [
              "                          title  authors  venue  year\n",
              "Scholar_Match DBLP_Match                             \n",
              "35            2457          0.0      0.0    0.0   0.0\n",
              "54            2103          0.0      0.0    0.0   0.0\n",
              "89            1811          0.0      0.0    0.0   0.0\n",
              "170           1691          0.0      0.0    0.0   0.0\n",
              "192           841           0.0      0.0    0.0   0.0\n",
              "...                         ...      ...    ...   ...\n",
              "64144         1103          0.0      0.0    0.0   0.0\n",
              "64172         2275          0.0      0.0    0.0   0.0\n",
              "64223         2576          0.0      0.0    0.0   0.0\n",
              "64228         907           0.0      1.0    0.0   0.0\n",
              "64236         923           0.0      1.0    0.0   0.0\n",
              "\n",
              "[9457 rows x 4 columns]"
            ]
          },
          "metadata": {
            "tags": []
          },
          "execution_count": 162
        }
      ]
    },
    {
      "cell_type": "code",
      "metadata": {
        "colab": {
          "base_uri": "https://localhost:8080/"
        },
        "id": "JfTJbFG9umJR",
        "outputId": "66711487-a36c-49b2-bed1-6f71274ff12e"
      },
      "source": [
        "''' Quality of matches\n",
        "    4.0: All 4 Records matches across all the four columns and \n",
        "    0.0: Zero matches (distinct record))'''\n",
        "\n",
        "features.sum(axis=1).value_counts().sort_index(ascending=False)"
      ],
      "execution_count": 180,
      "outputs": [
        {
          "output_type": "execute_result",
          "data": {
            "text/plain": [
              "4.0     818\n",
              "3.0    1189\n",
              "2.5      49\n",
              "2.0    1087\n",
              "1.5     145\n",
              "1.0    1966\n",
              "0.5     250\n",
              "0.0    3953\n",
              "dtype: int64"
            ]
          },
          "metadata": {
            "tags": []
          },
          "execution_count": 180
        }
      ]
    },
    {
      "cell_type": "markdown",
      "metadata": {
        "id": "PlhqinpLSIcU"
      },
      "source": [
        "### Step 3: Final Mapping"
      ]
    },
    {
      "cell_type": "code",
      "metadata": {
        "colab": {
          "base_uri": "https://localhost:8080/",
          "height": 419
        },
        "id": "AvWv9M7evvIW",
        "outputId": "8e1403ed-cd34-40f2-c4c9-64d3e6ac796c"
      },
      "source": [
        "# Creating a score column and sorting the values by DBLP_Match\n",
        "\n",
        "matched_results = features[features.sum(axis=1) > 2].reset_index()\n",
        "matched_results['score'] = matched_results.loc[:, 'title':'year'].sum(axis=1)\n",
        "matched_results.sort_values(by=['DBLP_Match'])"
      ],
      "execution_count": null,
      "outputs": [
        {
          "output_type": "execute_result",
          "data": {
            "text/html": [
              "<div>\n",
              "<style scoped>\n",
              "    .dataframe tbody tr th:only-of-type {\n",
              "        vertical-align: middle;\n",
              "    }\n",
              "\n",
              "    .dataframe tbody tr th {\n",
              "        vertical-align: top;\n",
              "    }\n",
              "\n",
              "    .dataframe thead th {\n",
              "        text-align: right;\n",
              "    }\n",
              "</style>\n",
              "<table border=\"1\" class=\"dataframe\">\n",
              "  <thead>\n",
              "    <tr style=\"text-align: right;\">\n",
              "      <th></th>\n",
              "      <th>Scholar_Match</th>\n",
              "      <th>DBLP_Match</th>\n",
              "      <th>title</th>\n",
              "      <th>authors</th>\n",
              "      <th>venue</th>\n",
              "      <th>year</th>\n",
              "      <th>score</th>\n",
              "    </tr>\n",
              "  </thead>\n",
              "  <tbody>\n",
              "    <tr>\n",
              "      <th>1582</th>\n",
              "      <td>46547</td>\n",
              "      <td>1</td>\n",
              "      <td>1.0</td>\n",
              "      <td>1.0</td>\n",
              "      <td>0.0</td>\n",
              "      <td>1.0</td>\n",
              "      <td>3.0</td>\n",
              "    </tr>\n",
              "    <tr>\n",
              "      <th>1989</th>\n",
              "      <td>63690</td>\n",
              "      <td>2</td>\n",
              "      <td>1.0</td>\n",
              "      <td>1.0</td>\n",
              "      <td>1.0</td>\n",
              "      <td>1.0</td>\n",
              "      <td>4.0</td>\n",
              "    </tr>\n",
              "    <tr>\n",
              "      <th>843</th>\n",
              "      <td>21171</td>\n",
              "      <td>3</td>\n",
              "      <td>1.0</td>\n",
              "      <td>1.0</td>\n",
              "      <td>0.0</td>\n",
              "      <td>1.0</td>\n",
              "      <td>3.0</td>\n",
              "    </tr>\n",
              "    <tr>\n",
              "      <th>1375</th>\n",
              "      <td>38991</td>\n",
              "      <td>7</td>\n",
              "      <td>1.0</td>\n",
              "      <td>1.0</td>\n",
              "      <td>0.0</td>\n",
              "      <td>1.0</td>\n",
              "      <td>3.0</td>\n",
              "    </tr>\n",
              "    <tr>\n",
              "      <th>1422</th>\n",
              "      <td>40746</td>\n",
              "      <td>8</td>\n",
              "      <td>1.0</td>\n",
              "      <td>1.0</td>\n",
              "      <td>1.0</td>\n",
              "      <td>1.0</td>\n",
              "      <td>4.0</td>\n",
              "    </tr>\n",
              "    <tr>\n",
              "      <th>...</th>\n",
              "      <td>...</td>\n",
              "      <td>...</td>\n",
              "      <td>...</td>\n",
              "      <td>...</td>\n",
              "      <td>...</td>\n",
              "      <td>...</td>\n",
              "      <td>...</td>\n",
              "    </tr>\n",
              "    <tr>\n",
              "      <th>1238</th>\n",
              "      <td>35093</td>\n",
              "      <td>2608</td>\n",
              "      <td>1.0</td>\n",
              "      <td>1.0</td>\n",
              "      <td>1.0</td>\n",
              "      <td>1.0</td>\n",
              "      <td>4.0</td>\n",
              "    </tr>\n",
              "    <tr>\n",
              "      <th>442</th>\n",
              "      <td>8749</td>\n",
              "      <td>2610</td>\n",
              "      <td>1.0</td>\n",
              "      <td>1.0</td>\n",
              "      <td>0.0</td>\n",
              "      <td>1.0</td>\n",
              "      <td>3.0</td>\n",
              "    </tr>\n",
              "    <tr>\n",
              "      <th>1884</th>\n",
              "      <td>59086</td>\n",
              "      <td>2612</td>\n",
              "      <td>1.0</td>\n",
              "      <td>1.0</td>\n",
              "      <td>1.0</td>\n",
              "      <td>1.0</td>\n",
              "      <td>4.0</td>\n",
              "    </tr>\n",
              "    <tr>\n",
              "      <th>1088</th>\n",
              "      <td>29923</td>\n",
              "      <td>2614</td>\n",
              "      <td>1.0</td>\n",
              "      <td>1.0</td>\n",
              "      <td>0.0</td>\n",
              "      <td>1.0</td>\n",
              "      <td>3.0</td>\n",
              "    </tr>\n",
              "    <tr>\n",
              "      <th>546</th>\n",
              "      <td>11706</td>\n",
              "      <td>2615</td>\n",
              "      <td>1.0</td>\n",
              "      <td>1.0</td>\n",
              "      <td>1.0</td>\n",
              "      <td>1.0</td>\n",
              "      <td>4.0</td>\n",
              "    </tr>\n",
              "  </tbody>\n",
              "</table>\n",
              "<p>2056 rows × 7 columns</p>\n",
              "</div>"
            ],
            "text/plain": [
              "      Scholar_Match  DBLP_Match  title  authors  venue  year  score\n",
              "1582          46547           1    1.0      1.0    0.0   1.0    3.0\n",
              "1989          63690           2    1.0      1.0    1.0   1.0    4.0\n",
              "843           21171           3    1.0      1.0    0.0   1.0    3.0\n",
              "1375          38991           7    1.0      1.0    0.0   1.0    3.0\n",
              "1422          40746           8    1.0      1.0    1.0   1.0    4.0\n",
              "...             ...         ...    ...      ...    ...   ...    ...\n",
              "1238          35093        2608    1.0      1.0    1.0   1.0    4.0\n",
              "442            8749        2610    1.0      1.0    0.0   1.0    3.0\n",
              "1884          59086        2612    1.0      1.0    1.0   1.0    4.0\n",
              "1088          29923        2614    1.0      1.0    0.0   1.0    3.0\n",
              "546           11706        2615    1.0      1.0    1.0   1.0    4.0\n",
              "\n",
              "[2056 rows x 7 columns]"
            ]
          },
          "metadata": {
            "tags": []
          },
          "execution_count": 164
        }
      ]
    },
    {
      "cell_type": "markdown",
      "metadata": {
        "id": "ULqg7m19dSdY"
      },
      "source": [
        "Comment: A thresold of score above 2 is chosen to filter the final matches, which are 2056 matches (with 2.5 or above). Based on the requirements, a suitable of score thresold could be selected. "
      ]
    },
    {
      "cell_type": "code",
      "metadata": {
        "colab": {
          "base_uri": "https://localhost:8080/"
        },
        "id": "CiK5B2HjwnKt",
        "outputId": "794391f6-dcf2-47ee-f8e6-c1dcde1bc8ff"
      },
      "source": [
        "# Randomly verifying the outcome for similarity\n",
        "\n",
        "print(df1.loc[46547,:])\n",
        "\n",
        "print('\\n*******************************************************************\\n')\n",
        "\n",
        "print(df2.loc[1,:])"
      ],
      "execution_count": null,
      "outputs": [
        {
          "output_type": "stream",
          "text": [
            "idScholar                                         T2fm7Wb1ak4J\n",
            "title        towards a cooperative transaction model the co...\n",
            "authors          m rusinkiewicz w klas t tesch j waesch p muth\n",
            "venue        proceedings of the international conference on...\n",
            "year                                                      1995\n",
            "Name: 46547, dtype: object\n",
            "\n",
            "*******************************************************************\n",
            "\n",
            "idDBLP                          conf/vldb/RusinkiewiczKTWM95\n",
            "title      towards a cooperative transaction model the co...\n",
            "authors         m rusinkiewicz w klas t tesch j w sch p muth\n",
            "venue                                                   vldb\n",
            "year                                                    1995\n",
            "Name: 1, dtype: object\n"
          ],
          "name": "stdout"
        }
      ]
    },
    {
      "cell_type": "code",
      "metadata": {
        "colab": {
          "base_uri": "https://localhost:8080/",
          "height": 419
        },
        "id": "gPA5W6gE_jnv",
        "outputId": "4c826f72-c1ce-45b2-ae71-b6ca9ce3cf7f"
      },
      "source": [
        "# Creating a dataframe with Scholar_Match/ idScholar and DBLP_Match/ idDBLP\n",
        "\n",
        "df1_lookup = df1['idScholar'].reset_index()\n",
        "\n",
        "df2_lookup = df2['idDBLP'].reset_index()\n",
        "\n",
        "df2_lookup"
      ],
      "execution_count": null,
      "outputs": [
        {
          "output_type": "execute_result",
          "data": {
            "text/html": [
              "<div>\n",
              "<style scoped>\n",
              "    .dataframe tbody tr th:only-of-type {\n",
              "        vertical-align: middle;\n",
              "    }\n",
              "\n",
              "    .dataframe tbody tr th {\n",
              "        vertical-align: top;\n",
              "    }\n",
              "\n",
              "    .dataframe thead th {\n",
              "        text-align: right;\n",
              "    }\n",
              "</style>\n",
              "<table border=\"1\" class=\"dataframe\">\n",
              "  <thead>\n",
              "    <tr style=\"text-align: right;\">\n",
              "      <th></th>\n",
              "      <th>DBLP_Match</th>\n",
              "      <th>idDBLP</th>\n",
              "    </tr>\n",
              "  </thead>\n",
              "  <tbody>\n",
              "    <tr>\n",
              "      <th>0</th>\n",
              "      <td>1</td>\n",
              "      <td>conf/vldb/RusinkiewiczKTWM95</td>\n",
              "    </tr>\n",
              "    <tr>\n",
              "      <th>1</th>\n",
              "      <td>2</td>\n",
              "      <td>journals/sigmod/EisenbergM02</td>\n",
              "    </tr>\n",
              "    <tr>\n",
              "      <th>2</th>\n",
              "      <td>3</td>\n",
              "      <td>conf/vldb/AmmannJR95</td>\n",
              "    </tr>\n",
              "    <tr>\n",
              "      <th>3</th>\n",
              "      <td>4</td>\n",
              "      <td>journals/sigmod/Liu02</td>\n",
              "    </tr>\n",
              "    <tr>\n",
              "      <th>4</th>\n",
              "      <td>5</td>\n",
              "      <td>journals/sigmod/Hammer02</td>\n",
              "    </tr>\n",
              "    <tr>\n",
              "      <th>...</th>\n",
              "      <td>...</td>\n",
              "      <td>...</td>\n",
              "    </tr>\n",
              "    <tr>\n",
              "      <th>2611</th>\n",
              "      <td>2612</td>\n",
              "      <td>conf/vldb/ShuklaDNR96</td>\n",
              "    </tr>\n",
              "    <tr>\n",
              "      <th>2612</th>\n",
              "      <td>2613</td>\n",
              "      <td>journals/sigmod/Aberer03</td>\n",
              "    </tr>\n",
              "    <tr>\n",
              "      <th>2613</th>\n",
              "      <td>2614</td>\n",
              "      <td>conf/vldb/RamakrishnanR96</td>\n",
              "    </tr>\n",
              "    <tr>\n",
              "      <th>2614</th>\n",
              "      <td>2615</td>\n",
              "      <td>conf/vldb/ShaferAM96</td>\n",
              "    </tr>\n",
              "    <tr>\n",
              "      <th>2615</th>\n",
              "      <td>2616</td>\n",
              "      <td>journals/sigmod/Aberer03a</td>\n",
              "    </tr>\n",
              "  </tbody>\n",
              "</table>\n",
              "<p>2616 rows × 2 columns</p>\n",
              "</div>"
            ],
            "text/plain": [
              "      DBLP_Match                        idDBLP\n",
              "0              1  conf/vldb/RusinkiewiczKTWM95\n",
              "1              2  journals/sigmod/EisenbergM02\n",
              "2              3          conf/vldb/AmmannJR95\n",
              "3              4         journals/sigmod/Liu02\n",
              "4              5      journals/sigmod/Hammer02\n",
              "...          ...                           ...\n",
              "2611        2612         conf/vldb/ShuklaDNR96\n",
              "2612        2613      journals/sigmod/Aberer03\n",
              "2613        2614     conf/vldb/RamakrishnanR96\n",
              "2614        2615          conf/vldb/ShaferAM96\n",
              "2615        2616     journals/sigmod/Aberer03a\n",
              "\n",
              "[2616 rows x 2 columns]"
            ]
          },
          "metadata": {
            "tags": []
          },
          "execution_count": 169
        }
      ]
    },
    {
      "cell_type": "code",
      "metadata": {
        "id": "Dg4EhWcmaTwg"
      },
      "source": [
        "# Merging the results and creating a new column 'Match_ID' based on Scholar_match and DBLP_Match\n",
        "\n",
        "df1_merge = matched_results.merge(account_lookup, how='left')\n",
        "\n",
        "df2_merge = df1_merge.merge(df2_lookup, how='left')\n",
        "\n",
        "df2_merge['Match_ID'] = df2_merge[['DBLP_Match','Scholar_Match']].astype(str).apply(lambda x: '_'.join(x), axis=1)"
      ],
      "execution_count": null,
      "outputs": []
    },
    {
      "cell_type": "code",
      "metadata": {
        "colab": {
          "base_uri": "https://localhost:8080/",
          "height": 419
        },
        "id": "m9Bj2hx8xr4e",
        "outputId": "4ae6a30a-de5a-4f93-96d8-463a9aa9d7ad"
      },
      "source": [
        "df2_merge.sort_values(by=['DBLP_Match'])"
      ],
      "execution_count": null,
      "outputs": [
        {
          "output_type": "execute_result",
          "data": {
            "text/html": [
              "<div>\n",
              "<style scoped>\n",
              "    .dataframe tbody tr th:only-of-type {\n",
              "        vertical-align: middle;\n",
              "    }\n",
              "\n",
              "    .dataframe tbody tr th {\n",
              "        vertical-align: top;\n",
              "    }\n",
              "\n",
              "    .dataframe thead th {\n",
              "        text-align: right;\n",
              "    }\n",
              "</style>\n",
              "<table border=\"1\" class=\"dataframe\">\n",
              "  <thead>\n",
              "    <tr style=\"text-align: right;\">\n",
              "      <th></th>\n",
              "      <th>Scholar_Match</th>\n",
              "      <th>DBLP_Match</th>\n",
              "      <th>title</th>\n",
              "      <th>authors</th>\n",
              "      <th>venue</th>\n",
              "      <th>year</th>\n",
              "      <th>score</th>\n",
              "      <th>idScholar</th>\n",
              "      <th>idDBLP</th>\n",
              "      <th>Match_ID</th>\n",
              "    </tr>\n",
              "  </thead>\n",
              "  <tbody>\n",
              "    <tr>\n",
              "      <th>1582</th>\n",
              "      <td>46547</td>\n",
              "      <td>1</td>\n",
              "      <td>1.0</td>\n",
              "      <td>1.0</td>\n",
              "      <td>0.0</td>\n",
              "      <td>1.0</td>\n",
              "      <td>3.0</td>\n",
              "      <td>T2fm7Wb1ak4J</td>\n",
              "      <td>conf/vldb/RusinkiewiczKTWM95</td>\n",
              "      <td>1_46547</td>\n",
              "    </tr>\n",
              "    <tr>\n",
              "      <th>1989</th>\n",
              "      <td>63690</td>\n",
              "      <td>2</td>\n",
              "      <td>1.0</td>\n",
              "      <td>1.0</td>\n",
              "      <td>1.0</td>\n",
              "      <td>1.0</td>\n",
              "      <td>4.0</td>\n",
              "      <td>wgK6p4mDSIMJ</td>\n",
              "      <td>journals/sigmod/EisenbergM02</td>\n",
              "      <td>2_63690</td>\n",
              "    </tr>\n",
              "    <tr>\n",
              "      <th>843</th>\n",
              "      <td>21171</td>\n",
              "      <td>3</td>\n",
              "      <td>1.0</td>\n",
              "      <td>1.0</td>\n",
              "      <td>0.0</td>\n",
              "      <td>1.0</td>\n",
              "      <td>3.0</td>\n",
              "      <td>x-H7BqZ0Hw8J</td>\n",
              "      <td>conf/vldb/AmmannJR95</td>\n",
              "      <td>3_21171</td>\n",
              "    </tr>\n",
              "    <tr>\n",
              "      <th>1375</th>\n",
              "      <td>38991</td>\n",
              "      <td>7</td>\n",
              "      <td>1.0</td>\n",
              "      <td>1.0</td>\n",
              "      <td>0.0</td>\n",
              "      <td>1.0</td>\n",
              "      <td>3.0</td>\n",
              "      <td>gEFY87Ma0XUJ</td>\n",
              "      <td>conf/vldb/SubietaKL95</td>\n",
              "      <td>7_38991</td>\n",
              "    </tr>\n",
              "    <tr>\n",
              "      <th>1422</th>\n",
              "      <td>40746</td>\n",
              "      <td>8</td>\n",
              "      <td>1.0</td>\n",
              "      <td>1.0</td>\n",
              "      <td>1.0</td>\n",
              "      <td>1.0</td>\n",
              "      <td>4.0</td>\n",
              "      <td>QTzV3iNq2O8J</td>\n",
              "      <td>journals/sigmod/BargaL02</td>\n",
              "      <td>8_40746</td>\n",
              "    </tr>\n",
              "    <tr>\n",
              "      <th>...</th>\n",
              "      <td>...</td>\n",
              "      <td>...</td>\n",
              "      <td>...</td>\n",
              "      <td>...</td>\n",
              "      <td>...</td>\n",
              "      <td>...</td>\n",
              "      <td>...</td>\n",
              "      <td>...</td>\n",
              "      <td>...</td>\n",
              "      <td>...</td>\n",
              "    </tr>\n",
              "    <tr>\n",
              "      <th>1238</th>\n",
              "      <td>35093</td>\n",
              "      <td>2608</td>\n",
              "      <td>1.0</td>\n",
              "      <td>1.0</td>\n",
              "      <td>1.0</td>\n",
              "      <td>1.0</td>\n",
              "      <td>4.0</td>\n",
              "      <td>RaOQG4YyzM4J</td>\n",
              "      <td>journals/sigmod/BusslerFM02</td>\n",
              "      <td>2608_35093</td>\n",
              "    </tr>\n",
              "    <tr>\n",
              "      <th>442</th>\n",
              "      <td>8749</td>\n",
              "      <td>2610</td>\n",
              "      <td>1.0</td>\n",
              "      <td>1.0</td>\n",
              "      <td>0.0</td>\n",
              "      <td>1.0</td>\n",
              "      <td>3.0</td>\n",
              "      <td>AfM_N94rVD0J</td>\n",
              "      <td>conf/vldb/Dyreson96</td>\n",
              "      <td>2610_8749</td>\n",
              "    </tr>\n",
              "    <tr>\n",
              "      <th>1884</th>\n",
              "      <td>59086</td>\n",
              "      <td>2612</td>\n",
              "      <td>1.0</td>\n",
              "      <td>1.0</td>\n",
              "      <td>1.0</td>\n",
              "      <td>1.0</td>\n",
              "      <td>4.0</td>\n",
              "      <td>vnezjPI8jYIJ</td>\n",
              "      <td>conf/vldb/ShuklaDNR96</td>\n",
              "      <td>2612_59086</td>\n",
              "    </tr>\n",
              "    <tr>\n",
              "      <th>1088</th>\n",
              "      <td>29923</td>\n",
              "      <td>2614</td>\n",
              "      <td>1.0</td>\n",
              "      <td>1.0</td>\n",
              "      <td>0.0</td>\n",
              "      <td>1.0</td>\n",
              "      <td>3.0</td>\n",
              "      <td>3y1e-H-FdC0J</td>\n",
              "      <td>conf/vldb/RamakrishnanR96</td>\n",
              "      <td>2614_29923</td>\n",
              "    </tr>\n",
              "    <tr>\n",
              "      <th>546</th>\n",
              "      <td>11706</td>\n",
              "      <td>2615</td>\n",
              "      <td>1.0</td>\n",
              "      <td>1.0</td>\n",
              "      <td>1.0</td>\n",
              "      <td>1.0</td>\n",
              "      <td>4.0</td>\n",
              "      <td>5HHRNLsy0sAJ</td>\n",
              "      <td>conf/vldb/ShaferAM96</td>\n",
              "      <td>2615_11706</td>\n",
              "    </tr>\n",
              "  </tbody>\n",
              "</table>\n",
              "<p>2056 rows × 10 columns</p>\n",
              "</div>"
            ],
            "text/plain": [
              "      Scholar_Match  DBLP_Match  ...                        idDBLP    Match_ID\n",
              "1582          46547           1  ...  conf/vldb/RusinkiewiczKTWM95     1_46547\n",
              "1989          63690           2  ...  journals/sigmod/EisenbergM02     2_63690\n",
              "843           21171           3  ...          conf/vldb/AmmannJR95     3_21171\n",
              "1375          38991           7  ...         conf/vldb/SubietaKL95     7_38991\n",
              "1422          40746           8  ...      journals/sigmod/BargaL02     8_40746\n",
              "...             ...         ...  ...                           ...         ...\n",
              "1238          35093        2608  ...   journals/sigmod/BusslerFM02  2608_35093\n",
              "442            8749        2610  ...           conf/vldb/Dyreson96   2610_8749\n",
              "1884          59086        2612  ...         conf/vldb/ShuklaDNR96  2612_59086\n",
              "1088          29923        2614  ...     conf/vldb/RamakrishnanR96  2614_29923\n",
              "546           11706        2615  ...          conf/vldb/ShaferAM96  2615_11706\n",
              "\n",
              "[2056 rows x 10 columns]"
            ]
          },
          "metadata": {
            "tags": []
          },
          "execution_count": 130
        }
      ]
    },
    {
      "cell_type": "code",
      "metadata": {
        "colab": {
          "base_uri": "https://localhost:8080/",
          "height": 419
        },
        "id": "_L99yYgt_0J-",
        "outputId": "2f169da3-7697-4620-b933-27501c18a0be"
      },
      "source": [
        "# Creating a final mapping dataframe\n",
        "\n",
        "column_names= ['idDBLP', 'idScholar', 'DBLP_Match', 'Scholar_Match', 'Match_ID']\n",
        "\n",
        "final_mapping = df2_merge.reindex(columns=column_names)\n",
        "\n",
        "final_mapping = final_mapping.sort_values(by=['DBLP_Match'])\n",
        "\n",
        "final_mapping"
      ],
      "execution_count": null,
      "outputs": [
        {
          "output_type": "execute_result",
          "data": {
            "text/html": [
              "<div>\n",
              "<style scoped>\n",
              "    .dataframe tbody tr th:only-of-type {\n",
              "        vertical-align: middle;\n",
              "    }\n",
              "\n",
              "    .dataframe tbody tr th {\n",
              "        vertical-align: top;\n",
              "    }\n",
              "\n",
              "    .dataframe thead th {\n",
              "        text-align: right;\n",
              "    }\n",
              "</style>\n",
              "<table border=\"1\" class=\"dataframe\">\n",
              "  <thead>\n",
              "    <tr style=\"text-align: right;\">\n",
              "      <th></th>\n",
              "      <th>idDBLP</th>\n",
              "      <th>idScholar</th>\n",
              "      <th>DBLP_Match</th>\n",
              "      <th>Scholar_Match</th>\n",
              "      <th>Match_ID</th>\n",
              "    </tr>\n",
              "  </thead>\n",
              "  <tbody>\n",
              "    <tr>\n",
              "      <th>1582</th>\n",
              "      <td>conf/vldb/RusinkiewiczKTWM95</td>\n",
              "      <td>T2fm7Wb1ak4J</td>\n",
              "      <td>1</td>\n",
              "      <td>46547</td>\n",
              "      <td>1_46547</td>\n",
              "    </tr>\n",
              "    <tr>\n",
              "      <th>1989</th>\n",
              "      <td>journals/sigmod/EisenbergM02</td>\n",
              "      <td>wgK6p4mDSIMJ</td>\n",
              "      <td>2</td>\n",
              "      <td>63690</td>\n",
              "      <td>2_63690</td>\n",
              "    </tr>\n",
              "    <tr>\n",
              "      <th>843</th>\n",
              "      <td>conf/vldb/AmmannJR95</td>\n",
              "      <td>x-H7BqZ0Hw8J</td>\n",
              "      <td>3</td>\n",
              "      <td>21171</td>\n",
              "      <td>3_21171</td>\n",
              "    </tr>\n",
              "    <tr>\n",
              "      <th>1375</th>\n",
              "      <td>conf/vldb/SubietaKL95</td>\n",
              "      <td>gEFY87Ma0XUJ</td>\n",
              "      <td>7</td>\n",
              "      <td>38991</td>\n",
              "      <td>7_38991</td>\n",
              "    </tr>\n",
              "    <tr>\n",
              "      <th>1422</th>\n",
              "      <td>journals/sigmod/BargaL02</td>\n",
              "      <td>QTzV3iNq2O8J</td>\n",
              "      <td>8</td>\n",
              "      <td>40746</td>\n",
              "      <td>8_40746</td>\n",
              "    </tr>\n",
              "    <tr>\n",
              "      <th>...</th>\n",
              "      <td>...</td>\n",
              "      <td>...</td>\n",
              "      <td>...</td>\n",
              "      <td>...</td>\n",
              "      <td>...</td>\n",
              "    </tr>\n",
              "    <tr>\n",
              "      <th>1238</th>\n",
              "      <td>journals/sigmod/BusslerFM02</td>\n",
              "      <td>RaOQG4YyzM4J</td>\n",
              "      <td>2608</td>\n",
              "      <td>35093</td>\n",
              "      <td>2608_35093</td>\n",
              "    </tr>\n",
              "    <tr>\n",
              "      <th>442</th>\n",
              "      <td>conf/vldb/Dyreson96</td>\n",
              "      <td>AfM_N94rVD0J</td>\n",
              "      <td>2610</td>\n",
              "      <td>8749</td>\n",
              "      <td>2610_8749</td>\n",
              "    </tr>\n",
              "    <tr>\n",
              "      <th>1884</th>\n",
              "      <td>conf/vldb/ShuklaDNR96</td>\n",
              "      <td>vnezjPI8jYIJ</td>\n",
              "      <td>2612</td>\n",
              "      <td>59086</td>\n",
              "      <td>2612_59086</td>\n",
              "    </tr>\n",
              "    <tr>\n",
              "      <th>1088</th>\n",
              "      <td>conf/vldb/RamakrishnanR96</td>\n",
              "      <td>3y1e-H-FdC0J</td>\n",
              "      <td>2614</td>\n",
              "      <td>29923</td>\n",
              "      <td>2614_29923</td>\n",
              "    </tr>\n",
              "    <tr>\n",
              "      <th>546</th>\n",
              "      <td>conf/vldb/ShaferAM96</td>\n",
              "      <td>5HHRNLsy0sAJ</td>\n",
              "      <td>2615</td>\n",
              "      <td>11706</td>\n",
              "      <td>2615_11706</td>\n",
              "    </tr>\n",
              "  </tbody>\n",
              "</table>\n",
              "<p>2056 rows × 5 columns</p>\n",
              "</div>"
            ],
            "text/plain": [
              "                            idDBLP     idScholar  ...  Scholar_Match    Match_ID\n",
              "1582  conf/vldb/RusinkiewiczKTWM95  T2fm7Wb1ak4J  ...          46547     1_46547\n",
              "1989  journals/sigmod/EisenbergM02  wgK6p4mDSIMJ  ...          63690     2_63690\n",
              "843           conf/vldb/AmmannJR95  x-H7BqZ0Hw8J  ...          21171     3_21171\n",
              "1375         conf/vldb/SubietaKL95  gEFY87Ma0XUJ  ...          38991     7_38991\n",
              "1422      journals/sigmod/BargaL02  QTzV3iNq2O8J  ...          40746     8_40746\n",
              "...                            ...           ...  ...            ...         ...\n",
              "1238   journals/sigmod/BusslerFM02  RaOQG4YyzM4J  ...          35093  2608_35093\n",
              "442            conf/vldb/Dyreson96  AfM_N94rVD0J  ...           8749   2610_8749\n",
              "1884         conf/vldb/ShuklaDNR96  vnezjPI8jYIJ  ...          59086  2612_59086\n",
              "1088     conf/vldb/RamakrishnanR96  3y1e-H-FdC0J  ...          29923  2614_29923\n",
              "546           conf/vldb/ShaferAM96  5HHRNLsy0sAJ  ...          11706  2615_11706\n",
              "\n",
              "[2056 rows x 5 columns]"
            ]
          },
          "metadata": {
            "tags": []
          },
          "execution_count": 135
        }
      ]
    },
    {
      "cell_type": "code",
      "metadata": {
        "id": "JB4g4evBEiMX"
      },
      "source": [
        "# Storing the output into csv file\n",
        "\n",
        "final_mapping.to_csv('DBLP_Scholar_perfectMapping_RaviLachireddy.csv', index=False)\n"
      ],
      "execution_count": null,
      "outputs": []
    }
  ]
}